{
  "nbformat": 4,
  "nbformat_minor": 0,
  "metadata": {
    "colab": {
      "name": "Copy of Table1_spherical.ipynb",
      "provenance": [],
      "collapsed_sections": [],
      "authorship_tag": "ABX9TyNp04/vbZYx1n5LrplpMkmz",
      "include_colab_link": true
    },
    "kernelspec": {
      "display_name": "Python 3",
      "name": "python3"
    }
  },
  "cells": [
    {
      "cell_type": "markdown",
      "metadata": {
        "id": "view-in-github",
        "colab_type": "text"
      },
      "source": [
        "<a href=\"https://colab.research.google.com/github/PerifanosPrometheus/GiorgioDiSalvo/blob/master/Copy_of_Table1_spherical.ipynb\" target=\"_parent\"><img src=\"https://colab.research.google.com/assets/colab-badge.svg\" alt=\"Open In Colab\"/></a>"
      ]
    },
    {
      "cell_type": "markdown",
      "metadata": {
        "id": "KEHSfV3woKcl"
      },
      "source": [
        "# Spherical clustering of DCSBM\n",
        "\n",
        "This Notebook attempts to compare the ARI obtained by fitting Gaussian mixture models(GMM) to the latent positions obtained from Adjacency spectral embedding of DCSBM graphs versus fitting GMM to the same latent positions but expressed in spherical coordinates as described by [Passino et al.](https://arxiv.org/pdf/2011.04558.pdf). \n",
        "\n",
        "\n",
        "Synthetic data will be simulated by sampling undirected graphs from degree-corrected stochastic blockmodels(DCSBM) with a fixed number of communities $K=3$. Each graph is simulated by randomly selecting $B \\sim Uniform(0, 1)^{K×K}$ and sampling the degree correction parameters\n",
        "$\\rho_i \\sim Beta(2, 1)$."
      ]
    },
    {
      "cell_type": "markdown",
      "metadata": {
        "id": "y4zET0j1oeZw"
      },
      "source": [
        "### Import"
      ]
    },
    {
      "cell_type": "markdown",
      "metadata": {
        "id": "KJe0YOMDSutV"
      },
      "source": [
        "Let's first import relevant packages"
      ]
    },
    {
      "cell_type": "code",
      "metadata": {
        "colab": {
          "base_uri": "https://localhost:8080/"
        },
        "id": "LZa0GiIqoalT",
        "outputId": "13ff2dcb-f873-4667-ef30-26d82d15d147"
      },
      "source": [
        "#! /usr/bin/env python3\n",
        "import numpy as np\n",
        "from numpy.random import normal, poisson\n",
        "import argparse\n",
        "from collections import Counter\n",
        "from scipy.sparse import coo_matrix\n",
        "from scipy.sparse.linalg import eigsh\n",
        "from sklearn.preprocessing import scale\n",
        "from scipy.stats import chi2, norm\n",
        "from sklearn.metrics import adjusted_rand_score as ari\n",
        "!pip install graspologic\n",
        "import graspologic\n",
        "from graspologic.simulations import sbm\n",
        "from graspologic.embed import AdjacencySpectralEmbed\n",
        "from graspologic.cluster import AutoGMMCluster\n",
        "from sklearn.preprocessing import normalize\n",
        "import pandas as pd\n",
        "import seaborn as sns\n",
        "import matplotlib.pyplot as plt\n",
        "\n"
      ],
      "execution_count": null,
      "outputs": [
        {
          "output_type": "stream",
          "text": [
            "Requirement already satisfied: graspologic in /usr/local/lib/python3.7/dist-packages (0.1.0)\n",
            "Requirement already satisfied: scipy>=1.4.0 in /usr/local/lib/python3.7/dist-packages (from graspologic) (1.4.1)\n",
            "Requirement already satisfied: umap-learn>=0.4.6 in /usr/local/lib/python3.7/dist-packages (from graspologic) (0.5.1)\n",
            "Requirement already satisfied: scikit-learn>=0.22.0 in /usr/local/lib/python3.7/dist-packages (from graspologic) (0.22.2.post1)\n",
            "Requirement already satisfied: hyppo==0.1.3 in /usr/local/lib/python3.7/dist-packages (from graspologic) (0.1.3)\n",
            "Requirement already satisfied: matplotlib<=3.3.0,>=3.0.0 in /usr/local/lib/python3.7/dist-packages (from graspologic) (3.2.2)\n",
            "Requirement already satisfied: graspologic-native in /usr/local/lib/python3.7/dist-packages (from graspologic) (0.1.0)\n",
            "Requirement already satisfied: networkx>=2.1 in /usr/local/lib/python3.7/dist-packages (from graspologic) (2.5)\n",
            "Requirement already satisfied: numpy>=1.8.1 in /usr/local/lib/python3.7/dist-packages (from graspologic) (1.19.5)\n",
            "Requirement already satisfied: POT>=0.7.0 in /usr/local/lib/python3.7/dist-packages (from graspologic) (0.7.0)\n",
            "Requirement already satisfied: joblib>=0.17.0 in /usr/local/lib/python3.7/dist-packages (from graspologic) (1.0.1)\n",
            "Requirement already satisfied: anytree>=2.8.0 in /usr/local/lib/python3.7/dist-packages (from graspologic) (2.8.0)\n",
            "Requirement already satisfied: seaborn>=0.11.0 in /usr/local/lib/python3.7/dist-packages (from graspologic) (0.11.1)\n",
            "Requirement already satisfied: gensim<=3.9.0,>=3.8.0 in /usr/local/lib/python3.7/dist-packages (from graspologic) (3.8.3)\n",
            "Requirement already satisfied: numba>=0.49 in /usr/local/lib/python3.7/dist-packages (from umap-learn>=0.4.6->graspologic) (0.51.2)\n",
            "Requirement already satisfied: pynndescent>=0.5 in /usr/local/lib/python3.7/dist-packages (from umap-learn>=0.4.6->graspologic) (0.5.2)\n",
            "Requirement already satisfied: pyparsing!=2.0.4,!=2.1.2,!=2.1.6,>=2.0.1 in /usr/local/lib/python3.7/dist-packages (from matplotlib<=3.3.0,>=3.0.0->graspologic) (2.4.7)\n",
            "Requirement already satisfied: kiwisolver>=1.0.1 in /usr/local/lib/python3.7/dist-packages (from matplotlib<=3.3.0,>=3.0.0->graspologic) (1.3.1)\n",
            "Requirement already satisfied: python-dateutil>=2.1 in /usr/local/lib/python3.7/dist-packages (from matplotlib<=3.3.0,>=3.0.0->graspologic) (2.8.1)\n",
            "Requirement already satisfied: cycler>=0.10 in /usr/local/lib/python3.7/dist-packages (from matplotlib<=3.3.0,>=3.0.0->graspologic) (0.10.0)\n",
            "Requirement already satisfied: decorator>=4.3.0 in /usr/local/lib/python3.7/dist-packages (from networkx>=2.1->graspologic) (4.4.2)\n",
            "Requirement already satisfied: cython>=0.23 in /usr/local/lib/python3.7/dist-packages (from POT>=0.7.0->graspologic) (0.29.22)\n",
            "Requirement already satisfied: six>=1.9.0 in /usr/local/lib/python3.7/dist-packages (from anytree>=2.8.0->graspologic) (1.15.0)\n",
            "Requirement already satisfied: pandas>=0.23 in /usr/local/lib/python3.7/dist-packages (from seaborn>=0.11.0->graspologic) (1.1.5)\n",
            "Requirement already satisfied: smart-open>=1.8.1 in /usr/local/lib/python3.7/dist-packages (from gensim<=3.9.0,>=3.8.0->graspologic) (4.2.0)\n",
            "Requirement already satisfied: llvmlite<0.35,>=0.34.0.dev0 in /usr/local/lib/python3.7/dist-packages (from numba>=0.49->umap-learn>=0.4.6->graspologic) (0.34.0)\n",
            "Requirement already satisfied: setuptools in /usr/local/lib/python3.7/dist-packages (from numba>=0.49->umap-learn>=0.4.6->graspologic) (54.2.0)\n",
            "Requirement already satisfied: pytz>=2017.2 in /usr/local/lib/python3.7/dist-packages (from pandas>=0.23->seaborn>=0.11.0->graspologic) (2018.9)\n"
          ],
          "name": "stdout"
        }
      ]
    },
    {
      "cell_type": "markdown",
      "metadata": {
        "id": "0pfggsZ9pQGy"
      },
      "source": [
        "## Function converting cartesian to spherical coordinates"
      ]
    },
    {
      "cell_type": "markdown",
      "metadata": {
        "id": "v6KB0isoSyra"
      },
      "source": [
        "Let's no define a function to perform transformation of coordinates."
      ]
    },
    {
      "cell_type": "code",
      "metadata": {
        "id": "U3uQpnm1pPSb"
      },
      "source": [
        "#Code provided by Passino et al.\n",
        "## Takes a vector and returns its spherical coordinates\n",
        "def cart_to_sphere(x):\n",
        "    ## theta_1\n",
        "    q = np.arccos(x[1] / np.linalg.norm(x[:2]))\n",
        "    sphere_coord = [q] if x[0] >= 0 else [2*np.pi - q]\n",
        "    ## Loop for theta_2, ..., theta_m-1\n",
        "    for j in range(2,len(x)):\n",
        "      sphere_coord += [2 * np.arccos(x[j] / np.linalg.norm(x[:(j+1)]))]\n",
        "    ## Return the result in a numpy array\n",
        "    return np.array(sphere_coord)\n",
        "\n",
        "## Takes a matrix and returns the spherical coordinates obtained along the given axis\n",
        "def theta_transform(X,axis=1):\n",
        "    ## Apply the function theta_transform along the axis\n",
        "    return np.apply_along_axis(func1d=cart_to_sphere, axis=axis, arr=X)"
      ],
      "execution_count": null,
      "outputs": []
    },
    {
      "cell_type": "markdown",
      "metadata": {
        "id": "6xzgnQib1Bm0"
      },
      "source": [
        "# Function to plot histograms of latent positions"
      ]
    },
    {
      "cell_type": "code",
      "metadata": {
        "id": "VtaYoyul1GFk"
      },
      "source": [
        "def simple_scatter(X, ax, y=None, title = None):\n",
        "    sns.scatterplot(\n",
        "        x=X[:, 0],\n",
        "        y=X[:, 1],\n",
        "        hue=y,\n",
        "        s=15,\n",
        "        linewidth=0.25,\n",
        "        alpha=0.5,\n",
        "        ax=ax,\n",
        "        legend=False,\n",
        "    )\n",
        "    ax.set(xticks=[-0.6, 0.1], yticks=[-0.5, 0.5], xlabel=r\"$\\mathbf{X}_1$\", ylabel=r\"$\\mathbf{X}_2$\", xlim=(-1, 1), ylim=(-1, 1), title=r\"$\\hat\\mathbf{X}$\")\n",
        "    ax.set_title(title)"
      ],
      "execution_count": null,
      "outputs": []
    },
    {
      "cell_type": "markdown",
      "metadata": {
        "id": "OjWBxNaIEqwu"
      },
      "source": [
        "# Visual intuition"
      ]
    },
    {
      "cell_type": "markdown",
      "metadata": {
        "id": "3b2KyyA_TOaJ"
      },
      "source": [
        "Let's first develop a simple visual intuition.\n",
        "\n",
        "Here we simulate a graph $G\\sim DCSBM$ with the following parameters:\n",
        "\n",
        "$n = 500\\\\\n",
        "K=2\\\\\n",
        "\\rho_{i}\\sim Beta(2,1)\\\\\n",
        "B = \\begin{bmatrix}0.1 & 0.05\\\\\n",
        "0.05 & 0.15 \\end{bmatrix}$\n",
        "\n",
        "We then perform Adjacency Spectral Embedding and to obtain the latent positions $X$. We will also compute $\\bar X$ as the normalized latent positions for $X$ and $\\Theta$ as representation of $X$ in spherical coordinates on the unit sphere. \n",
        "\n",
        "Finally we plot the histograms for $X$,$\\bar X$, and $\\Theta$."
      ]
    },
    {
      "cell_type": "code",
      "metadata": {
        "colab": {
          "base_uri": "https://localhost:8080/",
          "height": 1000
        },
        "id": "5qzI9PgsEtq0",
        "outputId": "f5381a54-4689-41b4-f1e7-09315585ede8"
      },
      "source": [
        "#use jointplot from sns https://seaborn.pydata.org/generated/seaborn.jointplot.html#seaborn.jointplot to create plots, much simpler and more appealing \n",
        "\n",
        "K = 2\n",
        "n = 500\n",
        "\n",
        "## Set seed to repeat the simulation\n",
        "np.random.seed(14441)\n",
        "q = np.array([int(x) for x in np.linspace(0,n,num=K,endpoint=False)])\n",
        "z = np.zeros(n,dtype=int)\n",
        "for k in range(K):\n",
        "    z[q[k]:] = k\n",
        "\n",
        "B = np.vstack(([0.1,0.05],[0.05,0.15]))\n",
        "\n",
        "rho = np.random.beta(a=2,b=1,size=n)\n",
        "## Construct the adjacency matrix\n",
        "A = np.zeros((n,n))\n",
        "for i in range(n-1):\n",
        "    for j in range(i+1,n):\n",
        "        edge = np.random.binomial(n=1,p=rho[i]*rho[j]*B[z[i],z[j]],size=1)\n",
        "        A[i,j] = edge\n",
        "        A[j,i] = edge\n",
        "\n",
        "## Obtain the embeddings\n",
        "ase = AdjacencySpectralEmbed(n_components=K, check_lcc=False)\n",
        "X = ase.fit_transform(A)\n",
        "\n",
        "#removes latent positions made up only by zeros\n",
        "idx_zerorows = np.where(~X.any(axis=1))\n",
        "X = np.delete(X, idx_zerorows, 0) #removes latent positions made up only by zeros\n",
        "zz = np.delete(z, idx_zerorows, 0) \n",
        "\n",
        "for t in [None, 'normalised', 'theta']:\n",
        "  if t == 'normalised':\n",
        "      for j in range(normalize(X).shape[1]):\n",
        "        x_hist = {r\"$\\mathbf{X}_j$\": normalize(X)[:, j], 'labels': zz}\n",
        "        x_hist = pd.DataFrame(data=x_hist)\n",
        "        sns.displot(data=x_hist, x=r\"$\\mathbf{X}_j$\", hue=\"labels\", bins = 20)\n",
        "        plt.title(\"Normalized latent positions\")\n",
        "  elif t == 'theta':\n",
        "      for j in range(theta_transform(X).shape[1]):\n",
        "        x_hist = {r\"$\\mathbf{\\Theta}_j$\": theta_transform(X)[:, j], 'labels': zz}\n",
        "        x_hist = pd.DataFrame(data=x_hist)\n",
        "        sns.displot(data=x_hist, x=r\"$\\mathbf{\\Theta}_j$\", hue=\"labels\", bins = 20)\n",
        "        plt.title(\"Spherical latent positions\")\n",
        "  else: \n",
        "      for j in range(X.shape[1]):\n",
        "        x_hist = {r\"$\\mathbf{X}_j$\": X[:, j], 'labels': zz}\n",
        "        x_hist = pd.DataFrame(data=x_hist)\n",
        "        sns.displot(data=x_hist, x=r\"$\\mathbf{X}_j$\", hue=\"labels\", bins = 20)\n",
        "        plt.title(\"Latent positions\")"
      ],
      "execution_count": null,
      "outputs": [
        {
          "output_type": "display_data",
          "data": {
            "image/png": "[encoded data removed]",
            "text/plain": [
              "<Figure size 402.375x360 with 1 Axes>"
            ]
          },
          "metadata": {
            "tags": [],
            "needs_background": "light"
          }
        },
        {
          "output_type": "display_data",
          "data": {
            "image/png": "[encoded data removed]",
            "text/plain": [
              "<Figure size 402.375x360 with 1 Axes>"
            ]
          },
          "metadata": {
            "tags": [],
            "needs_background": "light"
          }
        },
        {
          "output_type": "display_data",
          "data": {
            "image/png": "[encoded data removed]",
            "text/plain": [
              "<Figure size 402.375x360 with 1 Axes>"
            ]
          },
          "metadata": {
            "tags": [],
            "needs_background": "light"
          }
        },
        {
          "output_type": "display_data",
          "data": {
            "image/png": "[encoded data removed]",
            "text/plain": [
              "<Figure size 402.375x360 with 1 Axes>"
            ]
          },
          "metadata": {
            "tags": [],
            "needs_background": "light"
          }
        },
        {
          "output_type": "display_data",
          "data": {
            "image/png": "[encoded data removed]",
            "text/plain": [
              "<Figure size 402.375x360 with 1 Axes>"
            ]
          },
          "metadata": {
            "tags": [],
            "needs_background": "light"
          }
        }
      ]
    },
    {
      "cell_type": "markdown",
      "metadata": {
        "id": "otHD0WhMUSZD"
      },
      "source": [
        "As we can see, in the first histograms labeled spectral embeddings, which represent the embedding $X$,and in the histogram of the row-normalized $\\bar X$ we see that there is little separation for the two communities in one of the two embedding dimensions. \n",
        "\n",
        "On the other hand, if we look at the representation in spherical coordinates $\\Theta$ we can see a much clearer separation between the latent positions. "
      ]
    },
    {
      "cell_type": "markdown",
      "metadata": {
        "id": "qjvcEieR1H8Z"
      },
      "source": [
        "# ARI comparison for $n=500$ number of nodes"
      ]
    },
    {
      "cell_type": "markdown",
      "metadata": {
        "id": "E1AN5VlmV_Ym"
      },
      "source": [
        "We now simulate $N=50$ undirected graphs from degree-corrected stochastic blockmodels(DCSBM) with a fixed number of communities $K=3$. Each graph has $n=500$ nodes and is simulated by randomly selecting $B \\sim Uniform(0, 1)^{K×K}$ and sampling the degree correction parameters\n",
        "$\\rho_i \\sim Beta(2, 1)$.\n",
        "\n",
        "We then compute the embedding $X$, the row-normalized embedding $\\bar X$ and the spherical coordinates representation of the embedding $\\Theta$ on the unit sphere."
      ]
    },
    {
      "cell_type": "markdown",
      "metadata": {
        "id": "mZkj2QKIwv78"
      },
      "source": [
        "$N = 50,K=3\\\\\n",
        "| G_i | = 500\\\\\n",
        "G_i \\sim DCSBM(B_i, \\rho_{ij}) \\text{for }i= 1,2,...,N \\\\\n",
        "B_i \\sim Uniform(0, 1)^{K×K}\\\\\n",
        "\\rho_{ij} \\sim Beta(2, 1)$"
      ]
    },
    {
      "cell_type": "code",
      "metadata": {
        "colab": {
          "base_uri": "https://localhost:8080/"
        },
        "id": "Kj6pjuOAoDr3",
        "outputId": "1b6409c4-cfbf-40c7-a34a-bc307d11d3db"
      },
      "source": [
        "## Arguments\n",
        "n = 500\n",
        "M_sim = 50\n",
        "\n",
        "K = 3\n",
        "\n",
        "## Set seed to repeat the simulation\n",
        "np.random.seed(14441)\n",
        "q = np.array([int(x) for x in np.linspace(0,n,num=K,endpoint=False)])\n",
        "z = np.zeros(n,dtype=int)\n",
        "for k in range(K):\n",
        "    z[q[k]:] = k\n",
        "\n",
        "n_com = []\n",
        "n_com_norm = []\n",
        "n_com_theta = []\n",
        "\n",
        "ari_com = []\n",
        "ari_com_norm = []\n",
        "ari_com_theta = []\n",
        "\n",
        "## Repeat M_sim times\n",
        "for s in range(M_sim):\n",
        "    print(s)\n",
        "    B = np.tril(np.random.uniform(size=(K,K)))\n",
        "    B += np.tril(B,k=-1).T\n",
        "\n",
        "    rho = np.random.beta(a=2,b=1,size=n)\n",
        "    ## Construct the adjacency matrix\n",
        "    A = np.zeros((n,n))\n",
        "    for i in range(n-1):\n",
        "        for j in range(i+1,n):\n",
        "            edge = np.random.binomial(n=1,p=rho[i]*rho[j]*B[z[i],z[j]],size=1)\n",
        "            A[i,j] = edge\n",
        "            A[j,i] = edge\n",
        "\n",
        "    ## Obtain the embeddings\n",
        "    ase = AdjacencySpectralEmbed(n_components=K, check_lcc=False)\n",
        "    X = ase.fit_transform(A)\n",
        "    \n",
        "    #removes latent positions made up only by zeros\n",
        "    idx_zerorows = np.where(~X.any(axis=1))\n",
        "    X = np.delete(X, idx_zerorows, 0) #removes latent positions made up only by zeros\n",
        "    zz = np.delete(z, idx_zerorows, 0) \n",
        "\n",
        "    #M = AutoGMMCluster(min_components=2, max_components=7, affinity= 'euclidean', linkage='ward', covariance_type='full')\n",
        "    M = AutoGMMCluster(min_components=2, max_components=7)\n",
        "    for t in [None, 'normalised', 'theta']:\n",
        "      if t == 'normalised':\n",
        "          M.fit(normalize(X), y=zz)\n",
        "          n_com_norm.append(M.n_components_)\n",
        "          ari_com_norm.append(M.ari_)\n",
        "      elif t == 'theta':\n",
        "          M.fit(theta_transform(X), y=zz)\n",
        "          n_com_theta.append(M.n_components_)\n",
        "          ari_com_theta.append(M.ari_)\n",
        "      else: \n",
        "          M.fit(X, y=zz)\n",
        "          n_com.append(M.n_components_)\n",
        "          ari_com.append(M.ari_)\n",
        "\n",
        "    if (ari_com_1000[-1]>ari_com_theta_1000[-1]):\n",
        "      print(\"Cartesian better for B = \", B)"
      ],
      "execution_count": null,
      "outputs": [
        {
          "output_type": "stream",
          "text": [
            "0\n",
            "1\n",
            "2\n",
            "3\n",
            "4\n",
            "5\n",
            "6\n",
            "7\n",
            "8\n",
            "9\n",
            "10\n",
            "11\n",
            "12\n",
            "13\n",
            "14\n",
            "15\n",
            "16\n",
            "17\n",
            "18\n",
            "19\n"
          ],
          "name": "stdout"
        }
      ]
    },
    {
      "cell_type": "markdown",
      "metadata": {
        "id": "3FyIQzZPLO8F"
      },
      "source": [
        "# Plot ARI and estimated number of communities"
      ]
    },
    {
      "cell_type": "markdown",
      "metadata": {
        "id": "P1PvtCDKW7JV"
      },
      "source": [
        "Let's plot the ARI obtained at each iteration."
      ]
    },
    {
      "cell_type": "code",
      "metadata": {
        "colab": {
          "base_uri": "https://localhost:8080/",
          "height": 291
        },
        "id": "-WQhdJk0h1H6",
        "outputId": "be677567-9a02-4490-b202-7fa9baceb4bb"
      },
      "source": [
        "ARI = {\"ARI\": ari_com, \"method\": \"Cartesian\\ncoordinates\", \"Simulation Number\": range(1,len(ari_com)+1)}\n",
        "ARI_norm =  {\"ARI\": ari_com_norm, \"method\": \"Projections\\nunit sphere\", \"Simulation Number\": range(1,len(ari_com_norm)+1)}\n",
        "ARI_theta = { \"ARI\": ari_com_theta, \"method\": \"Spherical coordinates\\non unit sphere\",\"Simulation Number\": range(1,len(ari_com_theta)+1)}\n",
        "\n",
        "ARI = pd.DataFrame(data=ARI)\n",
        "ARI_norm = pd.DataFrame(data=ARI_norm)\n",
        "ARI_theta = pd.DataFrame(data=ARI_theta)\n",
        "ARI = pd.concat([ARI_theta, ARI, ARI_norm], axis=0)\n",
        "\n",
        "ax = sns.stripplot(x=\"method\", y=\"ARI\", data=ARI)"
      ],
      "execution_count": null,
      "outputs": [
        {
          "output_type": "display_data",
          "data": {
            "image/png": "[encoded data removed]",
            "text/plain": [
              "<Figure size 432x288 with 1 Axes>"
            ]
          },
          "metadata": {
            "tags": [],
            "needs_background": "light"
          }
        }
      ]
    },
    {
      "cell_type": "markdown",
      "metadata": {
        "id": "gTOZujPeg67m"
      },
      "source": [
        "Let's plot the number of communities estimated by GMM with best BIC/AIC scores"
      ]
    },
    {
      "cell_type": "code",
      "metadata": {
        "colab": {
          "base_uri": "https://localhost:8080/",
          "height": 291
        },
        "id": "zr9pp-Yyh5Nf",
        "outputId": "0f87b60c-7442-46a4-91b4-c0e9fb06eb9d"
      },
      "source": [
        "N_COM = {\"ARI\": n_com, \"method\": \"Cartesian\\ncoordinates\", \"Simulation Number\": range(1,len(n_com)+1)}\n",
        "N_COM_norm =  {\"ARI\": n_com_norm, \"method\": \"Projections\\nunit sphere\", \"Simulation Number\": range(1,len(n_com_norm)+1)}\n",
        "N_COM_theta = { \"ARI\": n_com_theta, \"method\": \"Spherical coordinates\\non unit sphere\",\"Simulation Number\": range(1,len(n_com_theta)+1)}\n",
        "\n",
        "N_COM = pd.DataFrame(data=N_COM)\n",
        "N_COM_norm = pd.DataFrame(data=N_COM_norm)\n",
        "N_COM_theta = pd.DataFrame(data=N_COM_theta)\n",
        "N_COM = pd.concat([N_COM_theta, N_COM, N_COM_norm], axis=0)\n",
        "\n",
        "ax = sns.stripplot(x=\"method\", y=\"ARI\", data=N_COM)"
      ],
      "execution_count": null,
      "outputs": [
        {
          "output_type": "display_data",
          "data": {
            "image/png": "[encoded data removed]",
            "text/plain": [
              "<Figure size 432x288 with 1 Axes>"
            ]
          },
          "metadata": {
            "tags": [],
            "needs_background": "light"
          }
        }
      ]
    },
    {
      "cell_type": "markdown",
      "metadata": {
        "id": "qu2rX3jMhlJM"
      },
      "source": [
        "# Average ARI per method"
      ]
    },
    {
      "cell_type": "markdown",
      "metadata": {
        "id": "p0v4kCl4WR6a"
      },
      "source": [
        "Let's first check the average ARI obtained by applying the GMM using the three different methods"
      ]
    },
    {
      "cell_type": "code",
      "metadata": {
        "colab": {
          "base_uri": "https://localhost:8080/"
        },
        "id": "Wx7xyZ8r4TJH",
        "outputId": "2feb7cea-1242-43bd-ac3f-1aae17ddf7f2"
      },
      "source": [
        "print(np.mean(ari_com))\n",
        "print(np.std(ari_com))"
      ],
      "execution_count": null,
      "outputs": [
        {
          "output_type": "stream",
          "text": [
            "0.6843354311447737\n",
            "0.2850285039219778\n"
          ],
          "name": "stdout"
        }
      ]
    },
    {
      "cell_type": "code",
      "metadata": {
        "colab": {
          "base_uri": "https://localhost:8080/"
        },
        "id": "jsAAal_j4uaL",
        "outputId": "aee51a8f-d97f-468c-d132-91ccb580d707"
      },
      "source": [
        "print(np.mean(ari_com_norm))\n",
        "print(np.std(ari_com_norm))"
      ],
      "execution_count": null,
      "outputs": [
        {
          "output_type": "stream",
          "text": [
            "0.4417084436293726\n",
            "0.18744015351248372\n"
          ],
          "name": "stdout"
        }
      ]
    },
    {
      "cell_type": "code",
      "metadata": {
        "colab": {
          "base_uri": "https://localhost:8080/"
        },
        "id": "7t54Z_Nf4z-a",
        "outputId": "df494b82-3c17-43a2-de96-d50c9b1657c9"
      },
      "source": [
        "print(np.mean(ari_com_theta))\n",
        "print(np.std(ari_com_theta))"
      ],
      "execution_count": null,
      "outputs": [
        {
          "output_type": "stream",
          "text": [
            "0.7334426761561131\n",
            "0.27734618000399075\n"
          ],
          "name": "stdout"
        }
      ]
    },
    {
      "cell_type": "markdown",
      "metadata": {
        "id": "B2M_EX1pW31n"
      },
      "source": [
        "# ARI comparison for $n=1000$ number of nodes"
      ]
    },
    {
      "cell_type": "markdown",
      "metadata": {
        "id": "NmEbd7uoXesY"
      },
      "source": [
        "We now repeat previous experiment, this time generating $N=25$ graphs with $n=1000$ nodes and same parameters.\n",
        "\n",
        "$N = 25,K=3\\\\\n",
        "| G_i | = 1000\\\\\n",
        "G_i \\sim DCSBM(B_i, \\rho_{ij}) \\text{for }i= 1,2,...,N \\\\\n",
        "B_i \\sim Uniform(0, 1)^{K×K}\\\\\n",
        "\\rho_{ij} \\sim Beta(2, 1)$"
      ]
    },
    {
      "cell_type": "code",
      "metadata": {
        "id": "7rCZ9NkOW3FX",
        "colab": {
          "base_uri": "https://localhost:8080/"
        },
        "outputId": "41805c17-8b02-45bf-c98b-95da058c2541"
      },
      "source": [
        "## Arguments\n",
        "n = 1000\n",
        "#M_sim = 25 Use 25 to produce plot for experiment\n",
        "M_sim = 25 # used to have some quick results to plot \n",
        "K = 3\n",
        "\n",
        "## Set seed to repeat the simulation\n",
        "np.random.seed(14441)\n",
        "q = np.array([int(x) for x in np.linspace(0,n,num=K,endpoint=False)])\n",
        "z = np.zeros(n,dtype=int)\n",
        "for k in range(K):\n",
        "    z[q[k]:] = k\n",
        "\n",
        "n_com_1000 = []\n",
        "n_com_norm_1000 = []\n",
        "n_com_theta_1000 = []\n",
        "\n",
        "ari_com_1000 = []\n",
        "ari_com_norm_1000 = []\n",
        "ari_com_theta_1000 = []\n",
        "\n",
        "## Repeat M_sim times\n",
        "for s in range(M_sim):\n",
        "    print(s)\n",
        "    B = np.tril(np.random.uniform(size=(K,K)))\n",
        "    B += np.tril(B,k=-1).T\n",
        "\n",
        "    rho = np.random.beta(a=2,b=1,size=n)\n",
        "    ## Construct the adjacency matrix\n",
        "    A = np.zeros((n,n))\n",
        "    for i in range(n-1):\n",
        "        for j in range(i+1,n):\n",
        "            edge = np.random.binomial(n=1,p=rho[i]*rho[j]*B[z[i],z[j]],size=1)\n",
        "            A[i,j] = edge\n",
        "            A[j,i] = edge\n",
        "\n",
        "    ## Obtain the embeddings\n",
        "    ase = AdjacencySpectralEmbed(n_components=K, check_lcc=False)\n",
        "    X = ase.fit_transform(A)\n",
        "    \n",
        "    #removes latent positions made up only by zeros\n",
        "    idx_zerorows = np.where(~X.any(axis=1))\n",
        "    X = np.delete(X, idx_zerorows, 0) #removes latent positions made up only by zeros\n",
        "    zz = np.delete(z, idx_zerorows, 0) \n",
        "\n",
        "    #M = AutoGMMCluster(min_components=2, max_components=7, affinity= 'euclidean', linkage='ward', covariance_type='full')\n",
        "    M = AutoGMMCluster(min_components=2, max_components=7)\n",
        "    for t in [None, 'normalised', 'theta']:\n",
        "      if t == 'normalised':\n",
        "          M.fit(normalize(X), y=zz)\n",
        "          n_com_norm_1000.append(M.n_components_)\n",
        "          ari_com_norm_1000.append(M.ari_)\n",
        "      elif t == 'theta':\n",
        "          M.fit(theta_transform(X), y=zz)\n",
        "          n_com_theta_1000.append(M.n_components_)\n",
        "          ari_com_theta_1000.append(M.ari_)\n",
        "      else: \n",
        "          M.fit(X, y=zz)\n",
        "          n_com_1000.append(M.n_components_)\n",
        "          ari_com_1000.append(M.ari_)\n",
        "\n",
        "    if (ari_com_1000[-1]>ari_com_theta_1000[-1]):\n",
        "      print(\"Cartesian better for B = \", B)"
      ],
      "execution_count": null,
      "outputs": [
        {
          "output_type": "stream",
          "text": [
            "0\n",
            "1\n",
            "2\n",
            "3\n",
            "4\n",
            "5\n",
            "6\n",
            "7\n",
            "8\n",
            "9\n",
            "10\n",
            "11\n",
            "12\n",
            "14\n",
            "15\n",
            "16\n",
            "17\n",
            "18\n",
            "19\n",
            "20\n",
            "21\n",
            "22\n",
            "23\n",
            "24\n"
          ],
          "name": "stdout"
        }
      ]
    },
    {
      "cell_type": "markdown",
      "metadata": {
        "id": "WxIrz_cIYLJd"
      },
      "source": [
        "# Plot ARI and estimated number of communities"
      ]
    },
    {
      "cell_type": "markdown",
      "metadata": {
        "id": "Zn_SGvJxfWnq"
      },
      "source": [
        "Let's plot the ARI obtained at each iteration."
      ]
    },
    {
      "cell_type": "code",
      "metadata": {
        "colab": {
          "base_uri": "https://localhost:8080/",
          "height": 291
        },
        "id": "HK9JfIkUfXew",
        "outputId": "ec39068d-cc46-440b-bf62-7597196d7c2a"
      },
      "source": [
        "ARI = {\"ARI\": ari_com_1000, \"method\": \"Cartesian\\ncoordinates\", \"Simulation Number\": range(1,len(ari_com_1000)+1)}\n",
        "ARI_norm =  {\"ARI\": ari_com_norm_1000, \"method\": \"Projections\\nunit sphere\", \"Simulation Number\": range(1,len(ari_com_norm_1000)+1)}\n",
        "ARI_theta = { \"ARI\": ari_com_theta_1000, \"method\": \"Spherical coordinates\\non unit sphere\",\"Simulation Number\": range(1,len(ari_com_theta_1000)+1)}\n",
        "\n",
        "ARI = pd.DataFrame(data=ARI)\n",
        "ARI_norm = pd.DataFrame(data=ARI_norm)\n",
        "ARI_theta = pd.DataFrame(data=ARI_theta)\n",
        "ARI = pd.concat([ARI_theta, ARI, ARI_norm], axis=0)\n",
        "\n",
        "ax = sns.stripplot(x=\"method\", y=\"ARI\", data=ARI)"
      ],
      "execution_count": null,
      "outputs": [
        {
          "output_type": "display_data",
          "data": {
            "image/png": "[encoded data removed]",
            "text/plain": [
              "<Figure size 432x288 with 1 Axes>"
            ]
          },
          "metadata": {
            "tags": [],
            "needs_background": "light"
          }
        }
      ]
    },
    {
      "cell_type": "markdown",
      "metadata": {
        "id": "uceWVbEdfdAL"
      },
      "source": [
        "Let's plot the number of communities estimated by GMM with best BIC/AIC scores"
      ]
    },
    {
      "cell_type": "code",
      "metadata": {
        "colab": {
          "base_uri": "https://localhost:8080/",
          "height": 291
        },
        "id": "j9hAdm8Fi0Ar",
        "outputId": "85aa2974-c24e-421e-a4a9-ec229305f693"
      },
      "source": [
        "N_COM = {\"ARI\": n_com_1000, \"method\": \"Cartesian\\ncoordinates\", \"Simulation Number\": range(1,len(n_com_1000)+1)}\n",
        "N_COM_norm =  {\"ARI\": n_com_norm_1000, \"method\": \"Projections\\nunit sphere\", \"Simulation Number\": range(1,len(n_com_norm_1000)+1)}\n",
        "N_COM_theta = { \"ARI\": n_com_theta_1000, \"method\": \"Spherical coordinates\\non unit sphere\",\"Simulation Number\": range(1,len(n_com_theta_1000)+1)}\n",
        "\n",
        "N_COM = pd.DataFrame(data=N_COM)\n",
        "N_COM_norm = pd.DataFrame(data=N_COM_norm)\n",
        "N_COM_theta = pd.DataFrame(data=N_COM_theta)\n",
        "N_COM = pd.concat([N_COM_theta, N_COM, N_COM_norm], axis=0)\n",
        "\n",
        "ax = sns.stripplot(x=\"method\", y=\"ARI\", data=N_COM)"
      ],
      "execution_count": null,
      "outputs": [
        {
          "output_type": "display_data",
          "data": {
            "image/png": "[encoded data removed]",
            "text/plain": [
              "<Figure size 432x288 with 1 Axes>"
            ]
          },
          "metadata": {
            "tags": [],
            "needs_background": "light"
          }
        }
      ]
    },
    {
      "cell_type": "markdown",
      "metadata": {
        "id": "aS8mW-vui0qf"
      },
      "source": [
        "# Average ARI per method"
      ]
    },
    {
      "cell_type": "code",
      "metadata": {
        "colab": {
          "base_uri": "https://localhost:8080/"
        },
        "id": "5-WeCEdH4-9y",
        "outputId": "5bcee92e-186b-4dea-918c-2fdd7e607b03"
      },
      "source": [
        "print(np.mean(ari_com_1000))\n",
        "print(np.std(ari_com_1000))"
      ],
      "execution_count": null,
      "outputs": [
        {
          "output_type": "stream",
          "text": [
            "0.6760333040025759\n",
            "0.14969072754925553\n"
          ],
          "name": "stdout"
        }
      ]
    },
    {
      "cell_type": "code",
      "metadata": {
        "colab": {
          "base_uri": "https://localhost:8080/"
        },
        "id": "3Ij_kEcH5F2G",
        "outputId": "5ae054e7-fc19-4c69-d252-6b6121da3ce0"
      },
      "source": [
        "print(np.mean(ari_com_norm_1000))\n",
        "print(np.std(ari_com_norm_1000))"
      ],
      "execution_count": null,
      "outputs": [
        {
          "output_type": "stream",
          "text": [
            "0.5580032617045139\n",
            "0.1458888249518584\n"
          ],
          "name": "stdout"
        }
      ]
    },
    {
      "cell_type": "code",
      "metadata": {
        "colab": {
          "base_uri": "https://localhost:8080/"
        },
        "id": "KgZryefZ5Kgg",
        "outputId": "920c9846-496b-4fd3-aa00-1d62eba3c0be"
      },
      "source": [
        "print(np.mean(ari_com_theta_1000))\n",
        "print(np.std(ari_com_theta_1000))"
      ],
      "execution_count": null,
      "outputs": [
        {
          "output_type": "stream",
          "text": [
            "0.8719632757947999\n",
            "0.13555939073679296\n"
          ],
          "name": "stdout"
        }
      ]
    },
    {
      "cell_type": "markdown",
      "metadata": {
        "id": "X0ytd_hmA39s"
      },
      "source": [
        "#Experiment with fixed B(not sparse, positive definite)"
      ]
    },
    {
      "cell_type": "markdown",
      "metadata": {
        "id": "z-ujQpCO-f3d"
      },
      "source": [
        "$N = 50,K=3\\\\\n",
        "| G_i | = 1000\\\\\n",
        "G_i \\sim DCSBM(B, \\rho_{ij}) \\text{for }i= 1,2,...,N \\\\\n",
        "B = \\begin{bmatrix} 0.8 & 0.7 & 0.45\\\\ 0.6 & 0.5 & 0.1 \\\\ 0.15 & 0.2 & 0.3\\end{bmatrix}\\\\\n",
        "\\rho_{ij} \\sim Beta(2, 1)$"
      ]
    },
    {
      "cell_type": "code",
      "metadata": {
        "colab": {
          "base_uri": "https://localhost:8080/"
        },
        "id": "kYu_ODj_A7Uu",
        "outputId": "d743c1bc-2534-4a25-b812-e44db5fb599a"
      },
      "source": [
        "## Arguments\n",
        "n = 1000\n",
        "M_sim = 50 # used to have some quick results to plot \n",
        "K = 3\n",
        "\n",
        "## Set seed to repeat the simulation\n",
        "np.random.seed(14441)\n",
        "q = np.array([int(x) for x in np.linspace(0,n,num=K,endpoint=False)])\n",
        "z = np.zeros(n,dtype=int)\n",
        "for k in range(K):\n",
        "    z[q[k]:] = k\n",
        "\n",
        "n_com_1000 = []\n",
        "n_com_norm_1000 = []\n",
        "n_com_theta_1000 = []\n",
        "\n",
        "ari_com_1000 = []\n",
        "ari_com_norm_1000 = []\n",
        "ari_com_theta_1000 = []\n",
        "\n",
        "## Repeat M_sim times\n",
        "for s in range(M_sim):\n",
        "    print(s)\n",
        "\n",
        "    B = np.vstack(([0.8, 0.7, 0.45],\n",
        "                   [0.6, 0.5, 0.1],\n",
        "                   [0.15, 0.2, 0.3]))\n",
        "\n",
        "    rho = np.random.beta(a=2,b=1,size=n)\n",
        "    ## Construct the adjacency matrix\n",
        "    A = np.zeros((n,n))\n",
        "    for i in range(n-1):\n",
        "        for j in range(i+1,n):\n",
        "            edge = np.random.binomial(n=1,p=rho[i]*rho[j]*B[z[i],z[j]],size=1)\n",
        "            A[i,j] = edge\n",
        "            A[j,i] = edge\n",
        "\n",
        "    ## Obtain the embeddings\n",
        "    ase = AdjacencySpectralEmbed(n_components=K, check_lcc=False)\n",
        "    X = ase.fit_transform(A)\n",
        "    \n",
        "    #removes latent positions made up only by zeros\n",
        "    idx_zerorows = np.where(~X.any(axis=1))\n",
        "    X = np.delete(X, idx_zerorows, 0) #removes latent positions made up only by zeros\n",
        "    zz = np.delete(z, idx_zerorows, 0) \n",
        "\n",
        "    #M = AutoGMMCluster(min_components=2, max_components=7, affinity= 'euclidean', linkage='ward', covariance_type='full')\n",
        "    M = AutoGMMCluster(min_components=2, max_components=7)\n",
        "    for t in [None, 'normalised', 'theta']:\n",
        "      if t == 'normalised':\n",
        "          M.fit(normalize(X), y=zz)\n",
        "          n_com_norm_1000.append(M.n_components_)\n",
        "          ari_com_norm_1000.append(M.ari_)\n",
        "      elif t == 'theta':\n",
        "          M.fit(theta_transform(X), y=zz)\n",
        "          n_com_theta_1000.append(M.n_components_)\n",
        "          ari_com_theta_1000.append(M.ari_)\n",
        "      else: \n",
        "          M.fit(X, y=zz)\n",
        "          n_com_1000.append(M.n_components_)\n",
        "          ari_com_1000.append(M.ari_)"
      ],
      "execution_count": null,
      "outputs": [
        {
          "output_type": "stream",
          "text": [
            "0\n",
            "1\n",
            "2\n",
            "3\n",
            "4\n",
            "5\n",
            "6\n",
            "7\n",
            "8\n",
            "9\n",
            "10\n",
            "11\n",
            "12\n",
            "13\n",
            "14\n",
            "15\n",
            "16\n",
            "17\n",
            "18\n",
            "19\n",
            "20\n",
            "21\n",
            "22\n",
            "23\n",
            "24\n",
            "25\n",
            "26\n",
            "27\n",
            "28\n",
            "29\n",
            "30\n",
            "31\n",
            "32\n",
            "33\n",
            "34\n",
            "35\n",
            "36\n",
            "37\n",
            "38\n",
            "39\n",
            "40\n",
            "41\n",
            "42\n",
            "43\n",
            "44\n",
            "45\n",
            "46\n",
            "47\n",
            "48\n",
            "49\n"
          ],
          "name": "stdout"
        }
      ]
    },
    {
      "cell_type": "markdown",
      "metadata": {
        "id": "_PO5rWOECAmR"
      },
      "source": [
        "#Plot results"
      ]
    },
    {
      "cell_type": "code",
      "metadata": {
        "colab": {
          "base_uri": "https://localhost:8080/",
          "height": 291
        },
        "id": "sswJhT8uCDup",
        "outputId": "5f570280-eaa2-4e48-9bf9-3184a3b527b6"
      },
      "source": [
        "ARI = {\"ARI\": ari_com_1000, \"method\": \"Cartesian\\ncoordinates\", \"Simulation Number\": range(1,len(ari_com_1000)+1)}\n",
        "ARI_norm =  {\"ARI\": ari_com_norm_1000, \"method\": \"Projections\\nunit sphere\", \"Simulation Number\": range(1,len(ari_com_norm_1000)+1)}\n",
        "ARI_theta = { \"ARI\": ari_com_theta_1000, \"method\": \"Spherical coordinates\\non unit sphere\",\"Simulation Number\": range(1,len(ari_com_theta_1000)+1)}\n",
        "\n",
        "ARI = pd.DataFrame(data=ARI)\n",
        "ARI_norm = pd.DataFrame(data=ARI_norm)\n",
        "ARI_theta = pd.DataFrame(data=ARI_theta)\n",
        "ARI = pd.concat([ARI_theta, ARI, ARI_norm], axis=0)\n",
        "\n",
        "ax = sns.stripplot(x=\"method\", y=\"ARI\", data=ARI)"
      ],
      "execution_count": null,
      "outputs": [
        {
          "output_type": "display_data",
          "data": {
            "image/png": "[encoded data removed]",
            "text/plain": [
              "<Figure size 432x288 with 1 Axes>"
            ]
          },
          "metadata": {
            "tags": [],
            "needs_background": "light"
          }
        }
      ]
    },
    {
      "cell_type": "code",
      "metadata": {
        "colab": {
          "base_uri": "https://localhost:8080/",
          "height": 291
        },
        "id": "vt-i5WLdzqWq",
        "outputId": "0c3ff707-36ba-41fe-f8d5-75807a1f5736"
      },
      "source": [
        "N_COM = {\"ARI\": n_com_1000, \"method\": \"Cartesian\\ncoordinates\", \"Simulation Number\": range(1,len(n_com_1000)+1)}\n",
        "N_COM_norm =  {\"ARI\": n_com_norm_1000, \"method\": \"Projections\\nunit sphere\", \"Simulation Number\": range(1,len(n_com_norm_1000)+1)}\n",
        "N_COM_theta = { \"ARI\": n_com_theta_1000, \"method\": \"Spherical coordinates\\non unit sphere\",\"Simulation Number\": range(1,len(n_com_theta_1000)+1)}\n",
        "\n",
        "N_COM = pd.DataFrame(data=N_COM)\n",
        "N_COM_norm = pd.DataFrame(data=N_COM_norm)\n",
        "N_COM_theta = pd.DataFrame(data=N_COM_theta)\n",
        "N_COM = pd.concat([N_COM_theta, N_COM, N_COM_norm], axis=0)\n",
        "\n",
        "ax = sns.stripplot(x=\"method\", y=\"ARI\", data=N_COM)"
      ],
      "execution_count": null,
      "outputs": [
        {
          "output_type": "display_data",
          "data": {
            "image/png": "[encoded data removed]",
            "text/plain": [
              "<Figure size 432x288 with 1 Axes>"
            ]
          },
          "metadata": {
            "tags": [],
            "needs_background": "light"
          }
        }
      ]
    },
    {
      "cell_type": "markdown",
      "metadata": {
        "id": "_V5wtVNKChbl"
      },
      "source": [
        "# Experiment with fixed B(not sparse, negative definite)"
      ]
    },
    {
      "cell_type": "markdown",
      "metadata": {
        "id": "h6KSKRGZIQPk"
      },
      "source": [
        "$N = 25,K=3\\\\\n",
        "| G_i | = 1000\\\\\n",
        "G_i \\sim DCSBM(B, \\rho_{ij}) \\text{for }i= 1,2,...,N \\\\\n",
        "B = \\begin{bmatrix} 0.05 & 0.75 & 0.95\\\\ 0.65 & 0.25 & 0.9 \\\\ 0.85 & 0.55 & 0.45\\end{bmatrix}\\\\\n",
        "\\rho_{ij} \\sim Beta(2, 1)$"
      ]
    },
    {
      "cell_type": "code",
      "metadata": {
        "colab": {
          "base_uri": "https://localhost:8080/"
        },
        "id": "Tc3aZE_qCphi",
        "outputId": "0e582552-1c34-4eaa-ad3d-d16ea6869b13"
      },
      "source": [
        "## Arguments\n",
        "n = 1000\n",
        "M_sim = 25 # used to have some quick results to plot \n",
        "K = 3\n",
        "\n",
        "## Set seed to repeat the simulation\n",
        "np.random.seed(14441)\n",
        "q = np.array([int(x) for x in np.linspace(0,n,num=K,endpoint=False)])\n",
        "z = np.zeros(n,dtype=int)\n",
        "for k in range(K):\n",
        "    z[q[k]:] = k\n",
        "\n",
        "n_com_1000 = []\n",
        "n_com_norm_1000 = []\n",
        "n_com_theta_1000 = []\n",
        "\n",
        "ari_com_1000 = []\n",
        "ari_com_norm_1000 = []\n",
        "ari_com_theta_1000 = []\n",
        "\n",
        "## Repeat M_sim times\n",
        "for s in range(M_sim):\n",
        "    print(s)\n",
        "\n",
        "    B = np.vstack(([0.05, 0.75, 0.95],\n",
        "              [0.65, 0.25, 0.90],\n",
        "              [0.85, 0.55, 0.45]))\n",
        "\n",
        "    rho = np.random.beta(a=2,b=1,size=n)\n",
        "    ## Construct the adjacency matrix\n",
        "    A = np.zeros((n,n))\n",
        "    for i in range(n-1):\n",
        "        for j in range(i+1,n):\n",
        "            edge = np.random.binomial(n=1,p=rho[i]*rho[j]*B[z[i],z[j]],size=1)\n",
        "            A[i,j] = edge\n",
        "            A[j,i] = edge\n",
        "\n",
        "    ## Obtain the embeddings\n",
        "    ase = AdjacencySpectralEmbed(n_components=K, check_lcc=False)\n",
        "    X = ase.fit_transform(A)\n",
        "    \n",
        "    #removes latent positions made up only by zeros\n",
        "    idx_zerorows = np.where(~X.any(axis=1))\n",
        "    X = np.delete(X, idx_zerorows, 0) #removes latent positions made up only by zeros\n",
        "    zz = np.delete(z, idx_zerorows, 0) \n",
        "\n",
        "    #M = AutoGMMCluster(min_components=2, max_components=7, affinity= 'euclidean', linkage='ward', covariance_type='full')\n",
        "    M = AutoGMMCluster(min_components=2, max_components=7)\n",
        "    for t in [None, 'normalised', 'theta']:\n",
        "      if t == 'normalised':\n",
        "          M.fit(normalize(X), y=zz)\n",
        "          n_com_norm_1000.append(M.n_components_)\n",
        "          ari_com_norm_1000.append(M.ari_)\n",
        "      elif t == 'theta':\n",
        "          M.fit(theta_transform(X), y=zz)\n",
        "          n_com_theta_1000.append(M.n_components_)\n",
        "          ari_com_theta_1000.append(M.ari_)\n",
        "      else: \n",
        "          M.fit(X, y=zz)\n",
        "          n_com_1000.append(M.n_components_)\n",
        "          ari_com_1000.append(M.ari_)"
      ],
      "execution_count": null,
      "outputs": [
        {
          "output_type": "stream",
          "text": [
            "0\n",
            "1\n",
            "2\n",
            "3\n",
            "4\n",
            "5\n",
            "6\n",
            "7\n",
            "8\n",
            "9\n",
            "10\n",
            "11\n",
            "12\n",
            "13\n",
            "14\n",
            "15\n",
            "16\n",
            "17\n",
            "18\n",
            "19\n",
            "20\n",
            "21\n",
            "22\n",
            "23\n",
            "24\n"
          ],
          "name": "stdout"
        }
      ]
    },
    {
      "cell_type": "code",
      "metadata": {
        "colab": {
          "base_uri": "https://localhost:8080/",
          "height": 291
        },
        "id": "XmTpOWUQD_8U",
        "outputId": "e8cfa063-d0f7-41f6-edb8-f0ba2c51acbb"
      },
      "source": [
        "ARI = {\"ARI\": ari_com_1000, \"method\": \"Cartesian\\ncoordinates\", \"Simulation Number\": range(1,len(ari_com_1000)+1)}\n",
        "ARI_norm =  {\"ARI\": ari_com_norm_1000, \"method\": \"Projections\\nunit sphere\", \"Simulation Number\": range(1,len(ari_com_norm_1000)+1)}\n",
        "ARI_theta = { \"ARI\": ari_com_theta_1000, \"method\": \"Spherical coordinates\\non unit sphere\",\"Simulation Number\": range(1,len(ari_com_theta_1000)+1)}\n",
        "\n",
        "ARI = pd.DataFrame(data=ARI)\n",
        "ARI_norm = pd.DataFrame(data=ARI_norm)\n",
        "ARI_theta = pd.DataFrame(data=ARI_theta)\n",
        "ARI = pd.concat([ARI_theta, ARI, ARI_norm], axis=0)\n",
        "\n",
        "ax = sns.stripplot(x=\"method\", y=\"ARI\", data=ARI)"
      ],
      "execution_count": null,
      "outputs": [
        {
          "output_type": "display_data",
          "data": {
            "image/png": "[encoded data removed]",
            "text/plain": [
              "<Figure size 432x288 with 1 Axes>"
            ]
          },
          "metadata": {
            "tags": [],
            "needs_background": "light"
          }
        }
      ]
    },
    {
      "cell_type": "code",
      "metadata": {
        "colab": {
          "base_uri": "https://localhost:8080/",
          "height": 291
        },
        "id": "JHmgpqyl_b8k",
        "outputId": "1800d9c2-32c8-4f6d-a08b-d75b88b7f442"
      },
      "source": [
        "N_COM = {\"ARI\": n_com_1000, \"method\": \"Cartesian\\ncoordinates\", \"Simulation Number\": range(1,len(n_com_1000)+1)}\n",
        "N_COM_norm =  {\"ARI\": n_com_norm_1000, \"method\": \"Projections\\nunit sphere\", \"Simulation Number\": range(1,len(n_com_norm_1000)+1)}\n",
        "N_COM_theta = { \"ARI\": n_com_theta_1000, \"method\": \"Spherical coordinates\\non unit sphere\",\"Simulation Number\": range(1,len(n_com_theta_1000)+1)}\n",
        "\n",
        "N_COM = pd.DataFrame(data=N_COM)\n",
        "N_COM_norm = pd.DataFrame(data=N_COM_norm)\n",
        "N_COM_theta = pd.DataFrame(data=N_COM_theta)\n",
        "N_COM = pd.concat([N_COM_theta, N_COM, N_COM_norm], axis=0)\n",
        "\n",
        "ax = sns.stripplot(x=\"method\", y=\"ARI\", data=N_COM)"
      ],
      "execution_count": null,
      "outputs": [
        {
          "output_type": "display_data",
          "data": {
            "image/png": "[encoded data removed]",
            "text/plain": [
              "<Figure size 432x288 with 1 Axes>"
            ]
          },
          "metadata": {
            "tags": [],
            "needs_background": "light"
          }
        }
      ]
    },
    {
      "cell_type": "markdown",
      "metadata": {
        "id": "kKPa5PtAGT_y"
      },
      "source": [
        "#Experiment with fixed B(sparse, positive definite)"
      ]
    },
    {
      "cell_type": "markdown",
      "metadata": {
        "id": "BlZ8AYv5GxF-"
      },
      "source": [
        "$N = 25,K=3\\\\\n",
        "| G_i | = 1000\\\\\n",
        "G_i \\sim DCSBM(B, \\rho_{ij}) \\text{for }i= 1,2,...,N \\\\\n",
        "sparse\\_scaler = 10\\\\\n",
        "B = \\frac{1}{sparse\\_scaler}\\begin{bmatrix} 0.8 & 0.7 & 0.45\\\\ 0.6 & 0.5 & 0.1 \\\\ 0.15 & 0.2 & 0.3\\end{bmatrix}\\\\\n",
        "\\rho_{ij} \\sim Beta(2, 1)$"
      ]
    },
    {
      "cell_type": "code",
      "metadata": {
        "id": "ASw68GBWGlDF"
      },
      "source": [
        "## Arguments\n",
        "n = 1000\n",
        "M_sim = 25 # used to have some quick results to plot \n",
        "K = 3\n",
        "\n",
        "## Set seed to repeat the simulation\n",
        "np.random.seed(14441)\n",
        "q = np.array([int(x) for x in np.linspace(0,n,num=K,endpoint=False)])\n",
        "z = np.zeros(n,dtype=int)\n",
        "for k in range(K):\n",
        "    z[q[k]:] = k\n",
        "\n",
        "sparse_scaler = 10\n",
        "\n",
        "n_com_1000 = []\n",
        "n_com_norm_1000 = []\n",
        "n_com_theta_1000 = []\n",
        "\n",
        "ari_com_1000 = []\n",
        "ari_com_norm_1000 = []\n",
        "ari_com_theta_1000 = []\n",
        "\n",
        "## Repeat M_sim times\n",
        "for s in range(M_sim):\n",
        "    print(s)\n",
        "\n",
        "    B = np.vstack(([0.8, 0.7, 0.45],\n",
        "                   [0.6, 0.5, 0.1],\n",
        "                   [0.15, 0.2, 0.3]))\n",
        "\n",
        "    B = B / sparse_scaler\n",
        "\n",
        "    rho = np.random.beta(a=2,b=1,size=n)\n",
        "    ## Construct the adjacency matrix\n",
        "    A = np.zeros((n,n))\n",
        "    for i in range(n-1):\n",
        "        for j in range(i+1,n):\n",
        "            edge = np.random.binomial(n=1,p=rho[i]*rho[j]*B[z[i],z[j]],size=1)\n",
        "            A[i,j] = edge\n",
        "            A[j,i] = edge\n",
        "\n",
        "    ## Obtain the embeddings\n",
        "    ase = AdjacencySpectralEmbed(n_components=K, check_lcc=False)\n",
        "    X = ase.fit_transform(A)\n",
        "    \n",
        "    #removes latent positions made up only by zeros\n",
        "    idx_zerorows = np.where(~X.any(axis=1))\n",
        "    X = np.delete(X, idx_zerorows, 0) #removes latent positions made up only by zeros\n",
        "    zz = np.delete(z, idx_zerorows, 0) \n",
        "\n",
        "    #M = AutoGMMCluster(min_components=2, max_components=7, affinity= 'euclidean', linkage='ward', covariance_type='full')\n",
        "    M = AutoGMMCluster(min_components=2, max_components=7)\n",
        "    for t in [None, 'normalised', 'theta']:\n",
        "      if t == 'normalised':\n",
        "          M.fit(normalize(X), y=zz)\n",
        "          n_com_norm_1000.append(M.n_components_)\n",
        "          ari_com_norm_1000.append(M.ari_)\n",
        "      elif t == 'theta':\n",
        "          M.fit(theta_transform(X), y=zz)\n",
        "          n_com_theta_1000.append(M.n_components_)\n",
        "          ari_com_theta_1000.append(M.ari_)\n",
        "      else: \n",
        "          M.fit(X, y=zz)\n",
        "          n_com_1000.append(M.n_components_)\n",
        "          ari_com_1000.append(M.ari_)"
      ],
      "execution_count": null,
      "outputs": []
    },
    {
      "cell_type": "code",
      "metadata": {
        "id": "uf9SE5WMIk6h"
      },
      "source": [
        "ARI = {\"ARI\": ari_com_1000, \"method\": \"Cartesian\\ncoordinates\", \"Simulation Number\": range(1,len(ari_com_1000)+1)}\n",
        "ARI_norm =  {\"ARI\": ari_com_norm_1000, \"method\": \"Projections\\nunit sphere\", \"Simulation Number\": range(1,len(ari_com_norm_1000)+1)}\n",
        "ARI_theta = { \"ARI\": ari_com_theta_1000, \"method\": \"Spherical coordinates\\non unit sphere\",\"Simulation Number\": range(1,len(ari_com_theta_1000)+1)}\n",
        "\n",
        "ARI = pd.DataFrame(data=ARI)\n",
        "ARI_norm = pd.DataFrame(data=ARI_norm)\n",
        "ARI_theta = pd.DataFrame(data=ARI_theta)\n",
        "ARI = pd.concat([ARI_theta, ARI, ARI_norm], axis=0)\n",
        "\n",
        "ax = sns.stripplot(x=\"method\", y=\"ARI\", data=ARI)"
      ],
      "execution_count": null,
      "outputs": []
    },
    {
      "cell_type": "code",
      "metadata": {
        "id": "akiEtfBmIneR"
      },
      "source": [
        "N_COM = {\"ARI\": n_com_1000, \"method\": \"Cartesian\\ncoordinates\", \"Simulation Number\": range(1,len(n_com_1000)+1)}\n",
        "N_COM_norm =  {\"ARI\": n_com_norm_1000, \"method\": \"Projections\\nunit sphere\", \"Simulation Number\": range(1,len(n_com_norm_1000)+1)}\n",
        "N_COM_theta = { \"ARI\": n_com_theta_1000, \"method\": \"Spherical coordinates\\non unit sphere\",\"Simulation Number\": range(1,len(n_com_theta_1000)+1)}\n",
        "\n",
        "N_COM = pd.DataFrame(data=N_COM)\n",
        "N_COM_norm = pd.DataFrame(data=N_COM_norm)\n",
        "N_COM_theta = pd.DataFrame(data=N_COM_theta)\n",
        "N_COM = pd.concat([N_COM_theta, N_COM, N_COM_norm], axis=0)\n",
        "\n",
        "ax = sns.stripplot(x=\"method\", y=\"ARI\", data=N_COM)"
      ],
      "execution_count": null,
      "outputs": []
    },
    {
      "cell_type": "markdown",
      "metadata": {
        "id": "OA4Tt9f8HNa_"
      },
      "source": [
        "# Experiment with fixed B(sparse, negative definite)"
      ]
    },
    {
      "cell_type": "markdown",
      "metadata": {
        "id": "POwiFSoJHKFT"
      },
      "source": [
        "$N = 25,K=3\\\\\n",
        "| G_i | = 1000\\\\\n",
        "G_i \\sim DCSBM(B, \\rho_{ij}) \\text{for }i= 1,2,...,N \\\\\n",
        "sparse\\_scaler = 10\\\\\n",
        "B = \\frac{1}{sparse\\_scaler}\\begin{bmatrix} 0.05 & 0.75 & 0.95\\\\ 0.65 & 0.25 & 0.9 \\\\ 0.85 & 0.55 & 0.45\\end{bmatrix}\\\\\n",
        "\\rho_{ij} \\sim Beta(2, 1)$"
      ]
    },
    {
      "cell_type": "code",
      "metadata": {
        "id": "VCGbLcbNH2lV"
      },
      "source": [
        "## Arguments\n",
        "n = 1000\n",
        "M_sim = 25 # used to have some quick results to plot \n",
        "K = 3\n",
        "\n",
        "## Set seed to repeat the simulation\n",
        "np.random.seed(14441)\n",
        "q = np.array([int(x) for x in np.linspace(0,n,num=K,endpoint=False)])\n",
        "z = np.zeros(n,dtype=int)\n",
        "for k in range(K):\n",
        "    z[q[k]:] = k\n",
        "\n",
        "n_com_1000 = []\n",
        "n_com_norm_1000 = []\n",
        "n_com_theta_1000 = []\n",
        "\n",
        "ari_com_1000 = []\n",
        "ari_com_norm_1000 = []\n",
        "ari_com_theta_1000 = []\n",
        "\n",
        "## Repeat M_sim times\n",
        "for s in range(M_sim):\n",
        "    print(s)\n",
        "\n",
        "    B = np.vstack(([0.05, 0.75, 0.95],\n",
        "                   [0.65, 0.25, 0.90],\n",
        "                   [0.85, 0.55, 0.45]))\n",
        "\n",
        "    rho = np.random.beta(a=2,b=1,size=n)\n",
        "    ## Construct the adjacency matrix\n",
        "    A = np.zeros((n,n))\n",
        "    for i in range(n-1):\n",
        "        for j in range(i+1,n):\n",
        "            edge = np.random.binomial(n=1,p=rho[i]*rho[j]*B[z[i],z[j]],size=1)\n",
        "            A[i,j] = edge\n",
        "            A[j,i] = edge\n",
        "\n",
        "    ## Obtain the embeddings\n",
        "    ase = AdjacencySpectralEmbed(n_components=K, check_lcc=False)\n",
        "    X = ase.fit_transform(A)\n",
        "    \n",
        "    #removes latent positions made up only by zeros\n",
        "    idx_zerorows = np.where(~X.any(axis=1))\n",
        "    X = np.delete(X, idx_zerorows, 0) #removes latent positions made up only by zeros\n",
        "    zz = np.delete(z, idx_zerorows, 0) \n",
        "\n",
        "    #M = AutoGMMCluster(min_components=2, max_components=7, affinity= 'euclidean', linkage='ward', covariance_type='full')\n",
        "    M = AutoGMMCluster(min_components=2, max_components=7)\n",
        "    for t in [None, 'normalised', 'theta']:\n",
        "      if t == 'normalised':\n",
        "          M.fit(normalize(X), y=zz)\n",
        "          n_com_norm_1000.append(M.n_components_)\n",
        "          ari_com_norm_1000.append(M.ari_)\n",
        "      elif t == 'theta':\n",
        "          M.fit(theta_transform(X), y=zz)\n",
        "          n_com_theta_1000.append(M.n_components_)\n",
        "          ari_com_theta_1000.append(M.ari_)\n",
        "      else: \n",
        "          M.fit(X, y=zz)\n",
        "          n_com_1000.append(M.n_components_)\n",
        "          ari_com_1000.append(M.ari_)"
      ],
      "execution_count": null,
      "outputs": []
    },
    {
      "cell_type": "code",
      "metadata": {
        "id": "F_StuENCIq0e"
      },
      "source": [
        "ARI = {\"ARI\": ari_com_1000, \"method\": \"Cartesian\\ncoordinates\", \"Simulation Number\": range(1,len(ari_com_1000)+1)}\n",
        "ARI_norm =  {\"ARI\": ari_com_norm_1000, \"method\": \"Projections\\nunit sphere\", \"Simulation Number\": range(1,len(ari_com_norm_1000)+1)}\n",
        "ARI_theta = { \"ARI\": ari_com_theta_1000, \"method\": \"Spherical coordinates\\non unit sphere\",\"Simulation Number\": range(1,len(ari_com_theta_1000)+1)}\n",
        "\n",
        "ARI = pd.DataFrame(data=ARI)\n",
        "ARI_norm = pd.DataFrame(data=ARI_norm)\n",
        "ARI_theta = pd.DataFrame(data=ARI_theta)\n",
        "ARI = pd.concat([ARI_theta, ARI, ARI_norm], axis=0)\n",
        "\n",
        "ax = sns.stripplot(x=\"method\", y=\"ARI\", data=ARI)"
      ],
      "execution_count": null,
      "outputs": []
    },
    {
      "cell_type": "code",
      "metadata": {
        "id": "iMD05fxBIrnX"
      },
      "source": [
        "N_COM = {\"ARI\": n_com_1000, \"method\": \"Cartesian\\ncoordinates\", \"Simulation Number\": range(1,len(n_com_1000)+1)}\n",
        "N_COM_norm =  {\"ARI\": n_com_norm_1000, \"method\": \"Projections\\nunit sphere\", \"Simulation Number\": range(1,len(n_com_norm_1000)+1)}\n",
        "N_COM_theta = { \"ARI\": n_com_theta_1000, \"method\": \"Spherical coordinates\\non unit sphere\",\"Simulation Number\": range(1,len(n_com_theta_1000)+1)}\n",
        "\n",
        "N_COM = pd.DataFrame(data=N_COM)\n",
        "N_COM_norm = pd.DataFrame(data=N_COM_norm)\n",
        "N_COM_theta = pd.DataFrame(data=N_COM_theta)\n",
        "N_COM = pd.concat([N_COM_theta, N_COM, N_COM_norm], axis=0)\n",
        "\n",
        "ax = sns.stripplot(x=\"method\", y=\"ARI\", data=N_COM)"
      ],
      "execution_count": null,
      "outputs": []
    },
    {
      "cell_type": "markdown",
      "metadata": {
        "id": "5iHF6L4pI24K"
      },
      "source": [
        "# B is diagonal"
      ]
    },
    {
      "cell_type": "markdown",
      "metadata": {
        "id": "QBUdjMlWJJXd"
      },
      "source": [
        "$N = 25,K=3\\\\\n",
        "| G_i | = 1000\\\\\n",
        "G_i \\sim DCSBM(B, \\rho_{ij}) \\text{for }i= 1,2,...,N \\\\\n",
        "B = \\begin{bmatrix} 0.9 & 0 & 0\\\\ 0 & 0.5 & 0 \\\\ 0 & 0 & 0.2\\end{bmatrix}\\\\\n",
        "\\rho_{ij} \\sim Beta(2, 1)$"
      ]
    },
    {
      "cell_type": "code",
      "metadata": {
        "id": "Cy3PFE7hJF31"
      },
      "source": [
        "## Arguments\n",
        "n = 1000\n",
        "M_sim = 25 # used to have some quick results to plot \n",
        "K = 3\n",
        "\n",
        "## Set seed to repeat the simulation\n",
        "np.random.seed(14441)\n",
        "q = np.array([int(x) for x in np.linspace(0,n,num=K,endpoint=False)])\n",
        "z = np.zeros(n,dtype=int)\n",
        "for k in range(K):\n",
        "    z[q[k]:] = k\n",
        "\n",
        "n_com_1000 = []\n",
        "n_com_norm_1000 = []\n",
        "n_com_theta_1000 = []\n",
        "\n",
        "ari_com_1000 = []\n",
        "ari_com_norm_1000 = []\n",
        "ari_com_theta_1000 = []\n",
        "\n",
        "## Repeat M_sim times\n",
        "for s in range(M_sim):\n",
        "    print(s)\n",
        "\n",
        "    B = np.vstack(([0.9, 0.0, 0.0],\n",
        "                   [0.0, 0.5, 0.0],\n",
        "                   [0.0, 0.0, 0.2]))\n",
        "\n",
        "\n",
        "    rho = np.random.beta(a=2,b=1,size=n)\n",
        "    ## Construct the adjacency matrix\n",
        "    A = np.zeros((n,n))\n",
        "    for i in range(n-1):\n",
        "        for j in range(i+1,n):\n",
        "            edge = np.random.binomial(n=1,p=rho[i]*rho[j]*B[z[i],z[j]],size=1)\n",
        "            A[i,j] = edge\n",
        "            A[j,i] = edge\n",
        "\n",
        "    ## Obtain the embeddings\n",
        "    ase = AdjacencySpectralEmbed(n_components=K, check_lcc=False)\n",
        "    X = ase.fit_transform(A)\n",
        "    \n",
        "    #removes latent positions made up only by zeros\n",
        "    idx_zerorows = np.where(~X.any(axis=1))\n",
        "    X = np.delete(X, idx_zerorows, 0) #removes latent positions made up only by zeros\n",
        "    zz = np.delete(z, idx_zerorows, 0) \n",
        "\n",
        "    #M = AutoGMMCluster(min_components=2, max_components=7, affinity= 'euclidean', linkage='ward', covariance_type='full')\n",
        "    M = AutoGMMCluster(min_components=2, max_components=7)\n",
        "    for t in [None, 'normalised', 'theta']:\n",
        "      if t == 'normalised':\n",
        "          M.fit(normalize(X), y=zz)\n",
        "          n_com_norm_1000.append(M.n_components_)\n",
        "          ari_com_norm_1000.append(M.ari_)\n",
        "      elif t == 'theta':\n",
        "          M.fit(theta_transform(X), y=zz)\n",
        "          n_com_theta_1000.append(M.n_components_)\n",
        "          ari_com_theta_1000.append(M.ari_)\n",
        "      else: \n",
        "          M.fit(X, y=zz)\n",
        "          n_com_1000.append(M.n_components_)\n",
        "          ari_com_1000.append(M.ari_)"
      ],
      "execution_count": null,
      "outputs": []
    },
    {
      "cell_type": "code",
      "metadata": {
        "id": "s1VG-Ys1JdAY"
      },
      "source": [
        "ARI = {\"ARI\": ari_com_1000, \"method\": \"Cartesian\\ncoordinates\", \"Simulation Number\": range(1,len(ari_com_1000)+1)}\n",
        "ARI_norm =  {\"ARI\": ari_com_norm_1000, \"method\": \"Projections\\nunit sphere\", \"Simulation Number\": range(1,len(ari_com_norm_1000)+1)}\n",
        "ARI_theta = { \"ARI\": ari_com_theta_1000, \"method\": \"Spherical coordinates\\non unit sphere\",\"Simulation Number\": range(1,len(ari_com_theta_1000)+1)}\n",
        "\n",
        "ARI = pd.DataFrame(data=ARI)\n",
        "ARI_norm = pd.DataFrame(data=ARI_norm)\n",
        "ARI_theta = pd.DataFrame(data=ARI_theta)\n",
        "ARI = pd.concat([ARI_theta, ARI, ARI_norm], axis=0)\n",
        "\n",
        "ax = sns.stripplot(x=\"method\", y=\"ARI\", data=ARI)"
      ],
      "execution_count": null,
      "outputs": []
    },
    {
      "cell_type": "code",
      "metadata": {
        "id": "hkUlrF75Jfca"
      },
      "source": [
        "N_COM = {\"ARI\": n_com_1000, \"method\": \"Cartesian\\ncoordinates\", \"Simulation Number\": range(1,len(n_com_1000)+1)}\n",
        "N_COM_norm =  {\"ARI\": n_com_norm_1000, \"method\": \"Projections\\nunit sphere\", \"Simulation Number\": range(1,len(n_com_norm_1000)+1)}\n",
        "N_COM_theta = { \"ARI\": n_com_theta_1000, \"method\": \"Spherical coordinates\\non unit sphere\",\"Simulation Number\": range(1,len(n_com_theta_1000)+1)}\n",
        "\n",
        "N_COM = pd.DataFrame(data=N_COM)\n",
        "N_COM_norm = pd.DataFrame(data=N_COM_norm)\n",
        "N_COM_theta = pd.DataFrame(data=N_COM_theta)\n",
        "N_COM = pd.concat([N_COM_theta, N_COM, N_COM_norm], axis=0)\n",
        "\n",
        "ax = sns.stripplot(x=\"method\", y=\"ARI\", data=N_COM)"
      ],
      "execution_count": null,
      "outputs": []
    },
    {
      "cell_type": "markdown",
      "metadata": {
        "id": "RRkzF_iTm3WE"
      },
      "source": [
        "# Figure out other experiments\n",
        "\n",
        "- vary degree correction parameters distribution"
      ]
    },
    {
      "cell_type": "markdown",
      "metadata": {
        "id": "j8UyNsknNNOR"
      },
      "source": [
        "Varying sampling distributions of degree correction parameters"
      ]
    },
    {
      "cell_type": "code",
      "metadata": {
        "colab": {
          "base_uri": "https://localhost:8080/"
        },
        "id": "BopkK6YQNUKx",
        "outputId": "adf22dce-1dbf-482a-f1bb-29043d1c789f"
      },
      "source": [
        "## Arguments\n",
        "n = 900\n",
        "M_sim = 10 # used to have some quick results to plot \n",
        "K = 3\n",
        "\n",
        "## Set seed to repeat the simulation\n",
        "np.random.seed(14441)\n",
        "q = np.array([int(x) for x in np.linspace(0,n,num=K,endpoint=False)])\n",
        "z = np.zeros(n,dtype=int)\n",
        "for k in range(K):\n",
        "    z[q[k]:] = k\n",
        "B = np.vstack(([0.6, 0.4, 0.2],\n",
        "               [0.4, 0.5, 0.4],\n",
        "               [0.2, 0.4, 0.4]))\n",
        "\n",
        "wt = [[normal, poisson, poisson],\n",
        "      [poisson, normal, poisson],\n",
        "      [poisson, poisson, normal]]\n",
        "wtargs = [[dict(loc=3, scale=1), dict(lam=5), dict(lam=3)],\n",
        "          [dict(lam=5), dict(loc=3, scale=1), dict(lam=4)],\n",
        "          [dict(lam=3),  dict(lam=4), dict(loc=3, scale=1)]]\n",
        "\n",
        "community_sizes = [n // 3, n // 3, n // 3]\n",
        "\n",
        "n_com_1000 = []\n",
        "n_com_norm_1000 = []\n",
        "n_com_theta_1000 = []\n",
        "\n",
        "ari_com_1000 = []\n",
        "ari_com_norm_1000 = []\n",
        "ari_com_theta_1000 = []\n",
        "\n",
        "## Repeat M_sim times\n",
        "for s in range(M_sim):\n",
        "    print(s)\n",
        "\n",
        "    ## Construct the adjacency matrix\n",
        "    A = sbm(n=community_sizes, p=B, wt=wt, wtargs=wtargs)\n",
        "\n",
        "    ## Obtain the embeddings\n",
        "    ase = AdjacencySpectralEmbed(n_components=K, check_lcc=False)\n",
        "    X = ase.fit_transform(A)\n",
        "    \n",
        "    #removes latent positions made up only by zeros\n",
        "    idx_zerorows = np.where(~X.any(axis=1))\n",
        "    X = np.delete(X, idx_zerorows, 0) #removes latent positions made up only by zeros\n",
        "    zz = np.delete(z, idx_zerorows, 0) \n",
        "\n",
        "    #M = AutoGMMCluster(min_components=2, max_components=7, affinity= 'euclidean', linkage='ward', covariance_type='full')\n",
        "    M = AutoGMMCluster(min_components=2, max_components=7)\n",
        "    for t in [None, 'normalised', 'theta']:\n",
        "      if t == 'normalised':\n",
        "          M.fit(normalize(X), y=zz)\n",
        "          n_com_norm_1000.append(M.n_components_)\n",
        "          ari_com_norm_1000.append(M.ari_)\n",
        "      elif t == 'theta':\n",
        "          M.fit(theta_transform(X), y=zz)\n",
        "          n_com_theta_1000.append(M.n_components_)\n",
        "          ari_com_theta_1000.append(M.ari_)\n",
        "      else: \n",
        "          M.fit(X, y=zz)\n",
        "          n_com_1000.append(M.n_components_)\n",
        "          ari_com_1000.append(M.ari_)"
      ],
      "execution_count": null,
      "outputs": [
        {
          "output_type": "stream",
          "text": [
            "0\n",
            "1\n",
            "2\n",
            "3\n",
            "4\n",
            "5\n",
            "6\n",
            "7\n",
            "8\n",
            "9\n"
          ],
          "name": "stdout"
        }
      ]
    },
    {
      "cell_type": "code",
      "metadata": {
        "colab": {
          "base_uri": "https://localhost:8080/",
          "height": 291
        },
        "id": "bGPrvYeWSqrj",
        "outputId": "0de53f67-ef97-4351-c6e2-4920296b2a37"
      },
      "source": [
        "ARI = {\"ARI\": ari_com_1000, \"method\": \"Cartesian\\ncoordinates\", \"Simulation Number\": range(1,len(ari_com_1000)+1)}\n",
        "ARI_norm =  {\"ARI\": ari_com_norm_1000, \"method\": \"Projections\\nunit sphere\", \"Simulation Number\": range(1,len(ari_com_norm_1000)+1)}\n",
        "ARI_theta = { \"ARI\": ari_com_theta_1000, \"method\": \"Spherical coordinates\\non unit sphere\",\"Simulation Number\": range(1,len(ari_com_theta_1000)+1)}\n",
        "\n",
        "ARI = pd.DataFrame(data=ARI)\n",
        "ARI_norm = pd.DataFrame(data=ARI_norm)\n",
        "ARI_theta = pd.DataFrame(data=ARI_theta)\n",
        "ARI = pd.concat([ARI_theta, ARI, ARI_norm], axis=0)\n",
        "\n",
        "ax = sns.stripplot(x=\"method\", y=\"ARI\", data=ARI)"
      ],
      "execution_count": null,
      "outputs": [
        {
          "output_type": "display_data",
          "data": {
            "image/png": "[encoded data removed]",
            "text/plain": [
              "<Figure size 432x288 with 1 Axes>"
            ]
          },
          "metadata": {
            "tags": [],
            "needs_background": "light"
          }
        }
      ]
    }
  ]
}
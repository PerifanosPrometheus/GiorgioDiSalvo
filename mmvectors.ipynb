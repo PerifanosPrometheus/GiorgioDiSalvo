{
 "metadata": {
  "language_info": {
   "codemirror_mode": {
    "name": "ipython",
    "version": 3
   },
   "file_extension": ".py",
   "mimetype": "text/x-python",
   "name": "python",
   "nbconvert_exporter": "python",
   "pygments_lexer": "ipython3",
   "version": "3.8.3-final"
  },
  "orig_nbformat": 2,
  "kernelspec": {
   "name": "python3",
   "display_name": "Python 3"
  }
 },
 "nbformat": 4,
 "nbformat_minor": 2,
 "cells": [
  {
   "source": [
    "# Chance of generating ER from MMSBM given alpha\n",
    "\n",
    "To generate mmsbm graph we sample probabilities for each node to act as belonging to certain community. Therefore, if we assign the concentration for a Dirichlet distribution in such a way that the probability of all nodes to belong to the same community is really high, the graph will effectively look like an ER.\n",
    "\n",
    "Here is shown what these mmvectors($i$ entry of each vector indicates probability of the node to belong to community $i$) look like for different values of alpha to determine the probability of deviation from ER given a 2-block network."
   ],
   "cell_type": "markdown",
   "metadata": {}
  },
  {
   "cell_type": "code",
   "execution_count": 5,
   "metadata": {},
   "outputs": [
    {
     "output_type": "execute_result",
     "data": {
      "text/plain": [
       "array([[9.99323001e-01, 6.76998558e-04],\n",
       "       [9.90753471e-01, 9.24652853e-03],\n",
       "       [9.65837996e-01, 3.41620038e-02],\n",
       "       [9.98173283e-01, 1.82671679e-03],\n",
       "       [9.91681905e-01, 8.31809532e-03],\n",
       "       [9.84418363e-01, 1.55816371e-02],\n",
       "       [9.97009120e-01, 2.99088032e-03],\n",
       "       [9.76373039e-01, 2.36269610e-02],\n",
       "       [9.90030274e-01, 9.96972607e-03],\n",
       "       [9.96259530e-01, 3.74046974e-03],\n",
       "       [9.93584249e-01, 6.41575108e-03],\n",
       "       [9.52506178e-01, 4.74938224e-02],\n",
       "       [9.99637762e-01, 3.62238298e-04],\n",
       "       [9.98191876e-01, 1.80812419e-03],\n",
       "       [9.90280249e-01, 9.71975082e-03],\n",
       "       [9.89067552e-01, 1.09324477e-02],\n",
       "       [9.86388653e-01, 1.36113468e-02],\n",
       "       [9.87857757e-01, 1.21422431e-02],\n",
       "       [9.91091939e-01, 8.90806076e-03],\n",
       "       [9.97397775e-01, 2.60222535e-03]])"
      ]
     },
     "metadata": {},
     "execution_count": 5
    }
   ],
   "source": [
    "import numpy as np\n",
    "\n",
    "rng = np.random.default_rng(12)\n",
    "\n",
    "n = 20\n",
    "\n",
    "alpha = [100, 1]\n",
    "\n",
    "mm_vectors = rng.dirichlet(alpha, n)\n",
    "\n",
    "mm_vectors = np.array(sorted(mm_vectors, key=lambda x: np.argmax(x)))\n",
    "\n",
    "#display mm_vectors for 20 nodes\n",
    "mm_vectors"
   ]
  },
  {
   "source": [
    "As we can see the probability for each node to behave as if belonging to community 1 when interacting with other nodes are very high(above 0.95). To get a better idea of how close to 1 the probability will be for each node I will repeat for 10000 mmvectors and compute average and variance.\n",
    " "
   ],
   "cell_type": "markdown",
   "metadata": {}
  },
  {
   "cell_type": "code",
   "execution_count": 12,
   "metadata": {},
   "outputs": [
    {
     "output_type": "stream",
     "name": "stdout",
     "text": [
      "the average probability for 10000 nodes to act as if belonging to community 1 is: 0.9899309493281928\nthe variance for 10000 nodes to act as if belonging to community 1 is: 9.904781412502551e-05\n"
     ]
    }
   ],
   "source": [
    "rng = np.random.default_rng(12)\n",
    "\n",
    "n = 10000\n",
    "\n",
    "alpha = [100, 1]\n",
    "\n",
    "mm_vectors = rng.dirichlet(alpha, n)\n",
    "\n",
    "mm_vectors = np.array(sorted(mm_vectors, key=lambda x: np.argmax(x)))\n",
    "\n",
    "print(\"the average probability for 10000 nodes to act as if belonging to community 1 is: \" + str(np.average(mm_vectors[:,0])))\n",
    "\n",
    "print(\"the variance for 10000 nodes to act as if belonging to community 1 is: \" + str(np.var(mm_vectors[:,0])))\n"
   ]
  },
  {
   "source": [
    "Therefore the expected deviation from ER should be approximately 0.02%(in reality will be slightly higher) for `alpha = [100, 1]`\n",
    "\n",
    "Now I will repeat the same steps for `alpha = [1000, 1]` and `alpha = [10000 1]`"
   ],
   "cell_type": "markdown",
   "metadata": {}
  },
  {
   "cell_type": "code",
   "execution_count": 13,
   "metadata": {},
   "outputs": [
    {
     "output_type": "stream",
     "name": "stdout",
     "text": [
      "the average probability for 10000 nodes to act as if belonging to community 1 with alpha = [1000, 1] is: 0.9990032464966428\nthe variance for 10000 nodes to act as if belonging to community 1 with alpha = [1000, 1] is: 9.907175854817301e-07\nthe average probability for 10000 nodes to act as if belonging to community 1 with alpha = [10000, 1] is: 0.9998988923810262\nthe variance for 10000 nodes to act as if belonging to community 1 with alpha = [10000, 1] is: 1.04743725340356e-08\n"
     ]
    }
   ],
   "source": [
    "n = 10000\n",
    "\n",
    "alpha = [[1000, 1], [10000, 1]]\n",
    "\n",
    "for i in range(2):\n",
    "\n",
    "    mm_vectors = rng.dirichlet(alpha[i], n)\n",
    "\n",
    "    mm_vectors = np.array(sorted(mm_vectors, key=lambda x: np.argmax(x)))\n",
    "\n",
    "    print(\"the average probability for 10000 nodes to act as if belonging to community 1 with alpha = \" + str(alpha[i]) + \" is: \" + str(np.average(mm_vectors[:,0])))\n",
    "\n",
    "    print(\"the variance for 10000 nodes to act as if belonging to community 1 with alpha = \" + str(alpha[i]) + \" is: \" + str(np.var(mm_vectors[:,0])))"
   ]
  },
  {
   "source": [
    "Therefore, to reduce even further the probability of deviation from ER will adopt `alpha = [1000, 1]` both for the tests and the doc build. Although I feel like for the tutorial purposes keeping the [100 1] should be fine as it is stated that we are approximating an ER. "
   ],
   "cell_type": "markdown",
   "metadata": {}
  }
 ]
}